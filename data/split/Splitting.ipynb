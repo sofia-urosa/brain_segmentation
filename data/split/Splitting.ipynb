{
 "cells": [
  {
   "cell_type": "code",
   "execution_count": null,
   "metadata": {},
   "outputs": [],
   "source": [
    "import numpy as np\n",
    "import os\n",
    "import shutil\n",
    "import glob\n",
    "import pandas as pd\n",
    "\n",
    "from sklearn.model_selection import train_test_split"
   ]
  },
  {
   "cell_type": "code",
   "execution_count": null,
   "metadata": {},
   "outputs": [],
   "source": [
    "im = glob.glob('') #Image Dir.\n",
    "msk = glob.glob('') #Mask Dir.\n",
    "\n",
    "#im and msk should be lists:\n",
    "print(type(im))\n",
    "\n",
    "#Check lenghts and files are corresponding to each other\n",
    "print(len(im))\n",
    "im[700]\n",
    "\n",
    "print(len(msk))\n",
    "msk[700]\n",
    "\n",
    "im.sort()\n",
    "msk.sort()"
   ]
  },
  {
   "cell_type": "code",
   "execution_count": null,
   "metadata": {},
   "outputs": [],
   "source": [
    "#Create dataframe\n",
    "df = pd.DataFrame({'Images':im,'Masks':msk})\n",
    "#df.head(10)"
   ]
  },
  {
   "cell_type": "code",
   "execution_count": null,
   "metadata": {},
   "outputs": [],
   "source": [
    "#Check files correspond to each other after sorting\n",
    "print(df.iloc[700]['Images'])\n",
    "print(df.iloc[700]['Masks'])"
   ]
  },
  {
   "cell_type": "code",
   "execution_count": null,
   "metadata": {},
   "outputs": [],
   "source": [
    "#First split: training set\n",
    "train , val = train_test_split(df, train_size = 0.8, random_state = 42)\n",
    "\n",
    "#train , temp = train_test_split(df, train_size = 0.6, random_state = 42)\n",
    "\n",
    "#Reset original indexes\n",
    "train = train.reset_index(drop = True)\n",
    "val = val.reset_index(drop = True)\n",
    "\n",
    "#temp = temp.reset_index(drop = True)"
   ]
  },
  {
   "cell_type": "code",
   "execution_count": null,
   "metadata": {},
   "outputs": [],
   "source": [
    "#Verify index resetting\n",
    "#train.head()"
   ]
  },
  {
   "cell_type": "code",
   "execution_count": null,
   "metadata": {},
   "outputs": [],
   "source": [
    "#Second split: validation and testing sets\n",
    "#Run only if testing files are needed\n",
    "\n",
    "val , test = train_test_split(temp, train_size = 0.5, random_state = 42)\n",
    "\n",
    "val = val.reset_index(drop = True)\n",
    "test = test.reset_index(drop = True)"
   ]
  },
  {
   "cell_type": "code",
   "execution_count": null,
   "metadata": {},
   "outputs": [],
   "source": [
    "print(len(train))\n",
    "print(len(val))\n",
    "print(len(test))\n",
    "\n",
    "#train['Images'][9]"
   ]
  },
  {
   "cell_type": "code",
   "execution_count": null,
   "metadata": {},
   "outputs": [],
   "source": [
    "#Creating folders to copy the data\n",
    "\n",
    "path = '' #/data\n",
    "\n",
    "splits = ['Train','Val']\n",
    "#splits = ['Train','Test','Val']\n",
    "\n",
    "for i in splits:\n",
    "    os.mkdir(path + i)\n",
    "\n",
    "    subdir = path + i\n",
    "    os.mkdir(subdir + '/images')\n",
    "    os.mkdir(subdir + '/masks')"
   ]
  },
  {
   "cell_type": "code",
   "execution_count": null,
   "metadata": {},
   "outputs": [],
   "source": [
    "#Copying images\n",
    "\n",
    "#shutil.copy(train['Images'][69], path + 'Train/images')\n",
    "\n",
    "for _ in range(len(train)):\n",
    "    shutil.copy(train['Images'][_], path + 'Train/images')\n",
    "    shutil.copy(train['Masks'][_], path + 'Train/masks')\n",
    "\n",
    "for _ in range(len(val)):\n",
    "    shutil.copy(val['Images'][_], path + 'Val/images')\n",
    "    shutil.copy(val['Masks'][_], path + 'Val/masks')\n",
    "\n",
    "#for _ in range(len(test)):\n",
    "#    shutil.copy(test['Images'][_], path + 'Test/images')\n",
    "#    shutil.copy(test['Masks'][_], path + 'Test/masks')"
   ]
  }
 ],
 "metadata": {
  "kernelspec": {
   "display_name": "Python 3.8.10 ('blue')",
   "language": "python",
   "name": "python3"
  },
  "language_info": {
   "codemirror_mode": {
    "name": "ipython",
    "version": 3
   },
   "file_extension": ".py",
   "mimetype": "text/x-python",
   "name": "python",
   "nbconvert_exporter": "python",
   "pygments_lexer": "ipython3",
   "version": "3.8.10"
  },
  "orig_nbformat": 4,
  "vscode": {
   "interpreter": {
    "hash": "08f8fd35d9b955d7fa1d322ab7124e26975890ff8be31e178ef1838c85c237a5"
   }
  }
 },
 "nbformat": 4,
 "nbformat_minor": 2
}
