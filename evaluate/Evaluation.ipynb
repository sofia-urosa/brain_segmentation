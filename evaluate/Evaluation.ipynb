{
 "cells": [
  {
   "cell_type": "code",
   "execution_count": 4,
   "metadata": {},
   "outputs": [
    {
     "data": {
      "text/plain": [
       "<Figure size 640x480 with 0 Axes>"
      ]
     },
     "metadata": {},
     "output_type": "display_data"
    }
   ],
   "source": [
    "import numpy as np\n",
    "\n",
    "from keras.models import *\n",
    "from keras import backend as K\n",
    "from keras.preprocessing.image import ImageDataGenerator\n",
    "\n",
    "from models.unet import *\n",
    "from datahandler import DataHandler\n",
    "\n",
    "import os\n",
    "import cv2\n",
    "import skimage.io as io\n",
    "from tqdm import tqdm\n",
    "from math import ceil\n",
    "from matplotlib import pyplot as plt\n",
    "from sklearn.metrics import f1_score, jaccard_score\n",
    "from models.unet.unet import *\n",
    "#from tta_wrapper import tta_segmentation\n",
    "\n",
    "import warnings\n",
    "warnings.filterwarnings(\"ignore\")\n",
    "\n",
    "plt.gray()"
   ]
  },
  {
   "cell_type": "code",
   "execution_count": 5,
   "metadata": {},
   "outputs": [
    {
     "name": "stderr",
     "output_type": "stream",
     "text": [
      "2022-12-23 00:54:01.408339: I tensorflow/core/platform/cpu_feature_guard.cc:193] This TensorFlow binary is optimized with oneAPI Deep Neural Network Library (oneDNN) to use the following CPU instructions in performance-critical operations:  AVX2 AVX512F AVX512_VNNI FMA\n",
      "To enable them in other operations, rebuild TensorFlow with the appropriate compiler flags.\n",
      "2022-12-23 00:54:14.759475: I tensorflow/core/common_runtime/gpu/gpu_device.cc:1616] Created device /job:localhost/replica:0/task:0/device:GPU:0 with 4660 MB memory:  -> device: 0, name: NVIDIA RTX A5000, pci bus id: 0000:17:00.0, compute capability: 8.6\n",
      "2022-12-23 00:54:14.765104: I tensorflow/core/common_runtime/gpu/gpu_device.cc:1616] Created device /job:localhost/replica:0/task:0/device:GPU:1 with 2705 MB memory:  -> device: 1, name: NVIDIA RTX A5000, pci bus id: 0000:65:00.0, compute capability: 8.6\n",
      "2022-12-23 00:54:14.805784: I tensorflow/core/common_runtime/gpu/gpu_device.cc:1616] Created device /job:localhost/replica:0/task:0/device:GPU:0 with 4660 MB memory:  -> device: 0, name: NVIDIA RTX A5000, pci bus id: 0000:17:00.0, compute capability: 8.6\n",
      "2022-12-23 00:54:14.806096: I tensorflow/core/common_runtime/gpu/gpu_device.cc:1616] Created device /job:localhost/replica:0/task:0/device:GPU:1 with 2705 MB memory:  -> device: 1, name: NVIDIA RTX A5000, pci bus id: 0000:65:00.0, compute capability: 8.6\n",
      "Validation data: 100%|████████████████████████| 149/149 [02:54<00:00,  1.17s/it]\n"
     ]
    }
   ],
   "source": [
    "model = getUnet()\n",
    "model.load_weights('logs/unet/kfold_unet/gamma/gamma_weights.h5')\n",
    "\n",
    "dh = DataHandler()\n",
    "images, masks = dh.getData(only_test = True)"
   ]
  },
  {
   "cell_type": "code",
   "execution_count": 6,
   "metadata": {},
   "outputs": [],
   "source": [
    "def resetSeed():\n",
    "    np.random.seed(1)\n",
    "\n",
    "def getGenerator(images, bs=32):\n",
    "    resetSeed()\n",
    "\n",
    "    image_datagen = ImageDataGenerator(rescale=1./255)\n",
    "    image_datagen.fit(images, augment = True)\n",
    "    image_generator = image_datagen.flow(x = images, batch_size=bs,\n",
    "            shuffle = False)\n",
    "\n",
    "    return image_generator"
   ]
  },
  {
   "cell_type": "code",
   "execution_count": 12,
   "metadata": {},
   "outputs": [],
   "source": [
    "def dice_coef(y_true, y_pred):     \n",
    "    y_true = y_true.flatten()\n",
    "    y_pred = y_pred.flatten()\n",
    "    intersection = np.sum(y_pred[y_true==1])\n",
    "    insum = np.sum(y_true) + np.sum(y_pred)\n",
    "    \n",
    "    if insum == 0:\n",
    "        return 1\n",
    "    \n",
    "    return 2. * intersection / insum\n",
    "\n",
    "def evaluateModel(masks, predictions):\n",
    "    dice_scores = []\n",
    "    iou_scores = []\n",
    "    f1_scores = []\n",
    "    \n",
    "    for i, pred in enumerate(tqdm(results, desc='evaluating')):\n",
    "        mask = masks[i]\n",
    "        \n",
    "        mask[mask==255] = 1\n",
    "        pred[pred<0.5] = 0\n",
    "        pred[pred>=0.5] = 1\n",
    "\n",
    "        mask = np.asarray(mask, dtype=np.bool).flatten()\n",
    "        pred = np.asarray(pred, dtype=np.bool).flatten()\n",
    "        \n",
    "        dice = dice_coef(mask,pred)\n",
    "        iou = jaccard_score(mask, pred)\n",
    "        f1 = f1_score(mask, pred)\n",
    "        \n",
    "        if dice > 0:\n",
    "            dice_scores.append(dice_coef(mask, pred))\n",
    "        if iou > 0:\n",
    "            iou_scores.append(jaccard_score(mask, pred))\n",
    "        if f1 > 0:\n",
    "            f1_scores.append(f1_score(mask, pred))\n",
    "    \n",
    "    print('dice: %f'%np.mean(dice_scores))\n",
    "    print('F1: %f'%np.mean(f1_scores))    \n",
    "    print('IoU: %f'%np.mean(iou_scores))"
   ]
  },
  {
   "cell_type": "code",
   "execution_count": 8,
   "metadata": {},
   "outputs": [
    {
     "name": "stderr",
     "output_type": "stream",
     "text": [
      "2022-12-23 01:00:15.779480: I tensorflow/stream_executor/cuda/cuda_dnn.cc:384] Loaded cuDNN version 8101\n",
      "2022-12-23 01:00:16.659369: I tensorflow/core/platform/default/subprocess.cc:304] Start cannot spawn child process: No such file or directory\n"
     ]
    },
    {
     "name": "stdout",
     "output_type": "stream",
     "text": [
      "  1/174 [..............................] - ETA: 26:01"
     ]
    },
    {
     "name": "stderr",
     "output_type": "stream",
     "text": [
      "2022-12-23 01:00:23.072179: I tensorflow/stream_executor/cuda/cuda_blas.cc:1614] TensorFloat-32 will be used for the matrix multiplication. This will only be logged once.\n"
     ]
    },
    {
     "name": "stdout",
     "output_type": "stream",
     "text": [
      "174/174 [==============================] - 34s 146ms/step\n"
     ]
    }
   ],
   "source": [
    "test_gen = getGenerator(images)\n",
    "results = model.predict_generator(test_gen, ceil(len(images) / 32), verbose = 1)"
   ]
  },
  {
   "cell_type": "markdown",
   "metadata": {},
   "source": [
    "### Normal"
   ]
  },
  {
   "cell_type": "code",
   "execution_count": 13,
   "metadata": {},
   "outputs": [
    {
     "name": "stderr",
     "output_type": "stream",
     "text": [
      "evaluating: 100%|██████████| 5542/5542 [03:04<00:00, 29.96it/s]"
     ]
    },
    {
     "name": "stdout",
     "output_type": "stream",
     "text": [
      "dice: 0.915961\n",
      "F1: 0.886854\n",
      "IoU: 0.815101\n"
     ]
    },
    {
     "name": "stderr",
     "output_type": "stream",
     "text": [
      "\n"
     ]
    }
   ],
   "source": [
    "evaluateModel(masks, results)"
   ]
  },
  {
   "cell_type": "markdown",
   "metadata": {},
   "source": [
    "### Comp vision techniques"
   ]
  },
  {
   "cell_type": "code",
   "execution_count": 7,
   "metadata": {},
   "outputs": [
    {
     "name": "stderr",
     "output_type": "stream",
     "text": [
      "Removing components: 100%|██████████| 136/136 [00:00<00:00, 7723.79it/s]\n",
      "evaluating: 100%|██████████| 136/136 [00:01<00:00, 101.88it/s]"
     ]
    },
    {
     "name": "stdout",
     "output_type": "stream",
     "text": [
      "dice: 0.781105\n",
      "F1: 0.616933\n",
      "IoU: 0.984857\n"
     ]
    },
    {
     "name": "stderr",
     "output_type": "stream",
     "text": [
      "\n"
     ]
    }
   ],
   "source": [
    "def chooseComponent(image, j):\n",
    "    image = image.astype('uint8')\n",
    "    nb_components, output, stats, centroids = cv2.connectedComponentsWithStats(image, connectivity=4)\n",
    "    sizes = stats[:, -1]\n",
    " \n",
    "    max_label = 1\n",
    "    if len(sizes) < 3:\n",
    "        return image\n",
    "    max_size = sizes[1]\n",
    "    for i in range(2, nb_components):\n",
    "        if sizes[i] > max_size:\n",
    "            max_label = i\n",
    "            max_size = sizes[i]\n",
    " \n",
    "    new_img = np.zeros(output.shape)\n",
    "    new_img[output == max_label] = 1\n",
    "    return new_img\n",
    "\n",
    "results_one_comp = []\n",
    "for i, res in enumerate(tqdm(results, desc='Removing components')):\n",
    "    results_one_comp.append(chooseComponent(res, i))\n",
    "evaluateModel(masks, results_one_comp)  "
   ]
  },
  {
   "cell_type": "markdown",
   "metadata": {},
   "source": [
    "### TTA"
   ]
  },
  {
   "cell_type": "code",
   "execution_count": 8,
   "metadata": {},
   "outputs": [],
   "source": [
    "\n",
    "params = dict(\n",
    "        h_flip=True,\n",
    "        v_flip=True,\n",
    "        h_shift=(10, -10),\n",
    "        v_shift=(10, -10),\n",
    "        rotation=(90, 180, 270),\n",
    "        merge='mean')\n",
    "\n",
    "tta_model = tta_segmentation(model, **params)\n"
   ]
  },
  {
   "cell_type": "code",
   "execution_count": 9,
   "metadata": {},
   "outputs": [
    {
     "name": "stdout",
     "output_type": "stream",
     "text": [
      "136/136 [==============================] - 93s 686ms/step\n"
     ]
    }
   ],
   "source": [
    "results = []\n",
    "\n",
    "test_gen = getGenerator(images, bs=1)\n",
    "results = tta_model.predict_generator(test_gen, len(images), verbose = 1)"
   ]
  },
  {
   "cell_type": "code",
   "execution_count": 10,
   "metadata": {},
   "outputs": [
    {
     "name": "stderr",
     "output_type": "stream",
     "text": [
      "evaluating: 100%|██████████| 136/136 [00:01<00:00, 96.42it/s] "
     ]
    },
    {
     "name": "stdout",
     "output_type": "stream",
     "text": [
      "dice: 0.820930\n",
      "F1: 0.648372\n",
      "IoU: 0.987869\n"
     ]
    },
    {
     "name": "stderr",
     "output_type": "stream",
     "text": [
      "\n"
     ]
    }
   ],
   "source": [
    "evaluateModel(masks, results)"
   ]
  }
 ],
 "metadata": {
  "kernelspec": {
   "display_name": "prueba",
   "language": "python",
   "name": "py2env"
  },
  "language_info": {
   "codemirror_mode": {
    "name": "ipython",
    "version": 3
   },
   "file_extension": ".py",
   "mimetype": "text/x-python",
   "name": "python",
   "nbconvert_exporter": "python",
   "pygments_lexer": "ipython3",
   "version": "3.8.10 (default, Nov 14 2022, 12:59:47) \n[GCC 9.4.0]"
  },
  "vscode": {
   "interpreter": {
    "hash": "08f8fd35d9b955d7fa1d322ab7124e26975890ff8be31e178ef1838c85c237a5"
   }
  }
 },
 "nbformat": 4,
 "nbformat_minor": 2
}
